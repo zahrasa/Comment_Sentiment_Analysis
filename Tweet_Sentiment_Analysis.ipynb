{
  "cells": [
    {
      "cell_type": "markdown",
      "metadata": {
        "id": "view-in-github",
        "colab_type": "text"
      },
      "source": [
        "<a href=\"https://colab.research.google.com/github/zahrasa/Tweet_Sentiment_Analysis/blob/main/Tweet_Sentiment_Analysis.ipynb\" target=\"_parent\"><img src=\"https://colab.research.google.com/assets/colab-badge.svg\" alt=\"Open In Colab\"/></a>"
      ]
    },
    {
      "cell_type": "code",
      "source": [
        "import re\n",
        "import os\n",
        "import pandas as pd \n",
        "import numpy as np \n",
        "import csv\n",
        "\n",
        "from sklearn.feature_extraction.text import TfidfVectorizer\n",
        "from sklearn.model_selection import train_test_split\n",
        "from sklearn.ensemble import RandomForestRegressor"
      ],
      "metadata": {
        "id": "OBTq81xEduvl"
      },
      "execution_count": 1,
      "outputs": []
    },
    {
      "cell_type": "code",
      "source": [
        "!pip install --upgrade --no-cache-dir gdown"
      ],
      "metadata": {
        "colab": {
          "base_uri": "https://localhost:8080/"
        },
        "id": "lfkzfZIgejgd",
        "outputId": "b909f84e-99fb-46c1-ed7d-7a0fb0b770ce"
      },
      "execution_count": 2,
      "outputs": [
        {
          "output_type": "stream",
          "name": "stdout",
          "text": [
            "Looking in indexes: https://pypi.org/simple, https://us-python.pkg.dev/colab-wheels/public/simple/\n",
            "Requirement already satisfied: gdown in /usr/local/lib/python3.7/dist-packages (4.4.0)\n",
            "Collecting gdown\n",
            "  Downloading gdown-4.5.3.tar.gz (14 kB)\n",
            "  Installing build dependencies ... \u001b[?25l\u001b[?25hdone\n",
            "  Getting requirements to build wheel ... \u001b[?25l\u001b[?25hdone\n",
            "    Preparing wheel metadata ... \u001b[?25l\u001b[?25hdone\n",
            "Requirement already satisfied: six in /usr/local/lib/python3.7/dist-packages (from gdown) (1.15.0)\n",
            "Requirement already satisfied: filelock in /usr/local/lib/python3.7/dist-packages (from gdown) (3.8.0)\n",
            "Requirement already satisfied: requests[socks] in /usr/local/lib/python3.7/dist-packages (from gdown) (2.23.0)\n",
            "Requirement already satisfied: tqdm in /usr/local/lib/python3.7/dist-packages (from gdown) (4.64.1)\n",
            "Requirement already satisfied: beautifulsoup4 in /usr/local/lib/python3.7/dist-packages (from gdown) (4.6.3)\n",
            "Requirement already satisfied: urllib3!=1.25.0,!=1.25.1,<1.26,>=1.21.1 in /usr/local/lib/python3.7/dist-packages (from requests[socks]->gdown) (1.24.3)\n",
            "Requirement already satisfied: idna<3,>=2.5 in /usr/local/lib/python3.7/dist-packages (from requests[socks]->gdown) (2.10)\n",
            "Requirement already satisfied: certifi>=2017.4.17 in /usr/local/lib/python3.7/dist-packages (from requests[socks]->gdown) (2022.9.24)\n",
            "Requirement already satisfied: chardet<4,>=3.0.2 in /usr/local/lib/python3.7/dist-packages (from requests[socks]->gdown) (3.0.4)\n",
            "Requirement already satisfied: PySocks!=1.5.7,>=1.5.6 in /usr/local/lib/python3.7/dist-packages (from requests[socks]->gdown) (1.7.1)\n",
            "Building wheels for collected packages: gdown\n",
            "  Building wheel for gdown (PEP 517) ... \u001b[?25l\u001b[?25hdone\n",
            "  Created wheel for gdown: filename=gdown-4.5.3-py3-none-any.whl size=14840 sha256=161393ab3ecc98e216c37fac18df0a9b07c02ddc427f57c6fb15e853e484a342\n",
            "  Stored in directory: /tmp/pip-ephem-wheel-cache-eb6g46aq/wheels/94/8d/0b/bdcd83555c3555f91a33f6c2384428d9f163c7d75ab0d272b4\n",
            "Successfully built gdown\n",
            "Installing collected packages: gdown\n",
            "  Attempting uninstall: gdown\n",
            "    Found existing installation: gdown 4.4.0\n",
            "    Uninstalling gdown-4.4.0:\n",
            "      Successfully uninstalled gdown-4.4.0\n",
            "Successfully installed gdown-4.5.3\n"
          ]
        }
      ]
    },
    {
      "cell_type": "code",
      "source": [
        "# Download the dataset\n",
        "! rm -rf * \n",
        "! gdown 1KszzQywPgfVNhSfp9RwlCR5jLEX1PunZ"
      ],
      "metadata": {
        "colab": {
          "base_uri": "https://localhost:8080/"
        },
        "id": "AzIQvTdfduyF",
        "outputId": "9c4fbade-dd36-412b-ae45-e8841c8cef75"
      },
      "execution_count": 3,
      "outputs": [
        {
          "output_type": "stream",
          "name": "stdout",
          "text": [
            "Downloading...\n",
            "From: https://drive.google.com/uc?id=1KszzQywPgfVNhSfp9RwlCR5jLEX1PunZ\n",
            "To: /content/comments.zip\n",
            "\r  0% 0.00/1.25M [00:00<?, ?B/s]\r100% 1.25M/1.25M [00:00<00:00, 130MB/s]\n"
          ]
        }
      ]
    },
    {
      "cell_type": "code",
      "source": [
        "! unzip \"comments.zip\"\n",
        "! rm -r \"comments.zip\""
      ],
      "metadata": {
        "colab": {
          "base_uri": "https://localhost:8080/"
        },
        "id": "wvOvh-Wtdu0V",
        "outputId": "b54b35de-60a4-430f-c66d-0fbf082da783"
      },
      "execution_count": 4,
      "outputs": [
        {
          "output_type": "stream",
          "name": "stdout",
          "text": [
            "Archive:  comments.zip\n",
            "  inflating: test.csv                \n",
            "  inflating: __MACOSX/._test.csv     \n",
            "  inflating: train.csv               \n",
            "  inflating: __MACOSX/._train.csv    \n"
          ]
        }
      ]
    },
    {
      "cell_type": "markdown",
      "source": [
        "## working with train and testing.csv"
      ],
      "metadata": {
        "id": "OaHft6sMfB5N"
      }
    },
    {
      "cell_type": "code",
      "source": [
        "train = pd.read_csv('./train.csv', encoding='utf-8')\n",
        "test = pd.read_csv('./test.csv', encoding='utf-8')\n",
        "train.tail()"
      ],
      "metadata": {
        "colab": {
          "base_uri": "https://localhost:8080/",
          "height": 600
        },
        "id": "8jb9OEl6e9Qm",
        "outputId": "e156be3a-d1a6-4259-9cd1-918407383598"
      },
      "execution_count": 5,
      "outputs": [
        {
          "output_type": "execute_result",
          "data": {
            "text/plain": [
              "                                                    text  sense  honor  curse  \\\n",
              "15781  Would you marry a Bengali — Loooool yes ... I ...   1.50   1.75   1.50   \n",
              "15782                    I am about to commit hate crime   4.00   4.00   3.00   \n",
              "15783  go back to somalia ilhan omar! -guy from the p...   3.33   3.33   2.67   \n",
              "15784  I agree with noah. Depression or mental illnes...   3.00   2.33   2.33   \n",
              "15785  Love sharing my Gf with Asian boys! HMU if you...   3.67   3.33   2.67   \n",
              "\n",
              "       despise  situation  antihuman  roughness  slaughter  strike_support  \\\n",
              "15781     1.50       2.25       1.00       0.25       0.25            2.00   \n",
              "15782     3.00       2.00       3.00       4.00       4.00            4.00   \n",
              "15783     1.67       2.33       0.67       0.33       0.00            3.00   \n",
              "15784     2.00       3.00       1.67       0.33       0.00            1.67   \n",
              "15785     2.00       2.67       2.33       1.67       0.33            2.00   \n",
              "\n",
              "       depression_rate  \n",
              "15781              0.0  \n",
              "15782              2.0  \n",
              "15783              0.0  \n",
              "15784              0.0  \n",
              "15785              0.0  "
            ],
            "text/html": [
              "\n",
              "  <div id=\"df-c25644e0-820e-4aa5-934d-5e8e97b02000\">\n",
              "    <div class=\"colab-df-container\">\n",
              "      <div>\n",
              "<style scoped>\n",
              "    .dataframe tbody tr th:only-of-type {\n",
              "        vertical-align: middle;\n",
              "    }\n",
              "\n",
              "    .dataframe tbody tr th {\n",
              "        vertical-align: top;\n",
              "    }\n",
              "\n",
              "    .dataframe thead th {\n",
              "        text-align: right;\n",
              "    }\n",
              "</style>\n",
              "<table border=\"1\" class=\"dataframe\">\n",
              "  <thead>\n",
              "    <tr style=\"text-align: right;\">\n",
              "      <th></th>\n",
              "      <th>text</th>\n",
              "      <th>sense</th>\n",
              "      <th>honor</th>\n",
              "      <th>curse</th>\n",
              "      <th>despise</th>\n",
              "      <th>situation</th>\n",
              "      <th>antihuman</th>\n",
              "      <th>roughness</th>\n",
              "      <th>slaughter</th>\n",
              "      <th>strike_support</th>\n",
              "      <th>depression_rate</th>\n",
              "    </tr>\n",
              "  </thead>\n",
              "  <tbody>\n",
              "    <tr>\n",
              "      <th>15781</th>\n",
              "      <td>Would you marry a Bengali — Loooool yes ... I ...</td>\n",
              "      <td>1.50</td>\n",
              "      <td>1.75</td>\n",
              "      <td>1.50</td>\n",
              "      <td>1.50</td>\n",
              "      <td>2.25</td>\n",
              "      <td>1.00</td>\n",
              "      <td>0.25</td>\n",
              "      <td>0.25</td>\n",
              "      <td>2.00</td>\n",
              "      <td>0.0</td>\n",
              "    </tr>\n",
              "    <tr>\n",
              "      <th>15782</th>\n",
              "      <td>I am about to commit hate crime</td>\n",
              "      <td>4.00</td>\n",
              "      <td>4.00</td>\n",
              "      <td>3.00</td>\n",
              "      <td>3.00</td>\n",
              "      <td>2.00</td>\n",
              "      <td>3.00</td>\n",
              "      <td>4.00</td>\n",
              "      <td>4.00</td>\n",
              "      <td>4.00</td>\n",
              "      <td>2.0</td>\n",
              "    </tr>\n",
              "    <tr>\n",
              "      <th>15783</th>\n",
              "      <td>go back to somalia ilhan omar! -guy from the p...</td>\n",
              "      <td>3.33</td>\n",
              "      <td>3.33</td>\n",
              "      <td>2.67</td>\n",
              "      <td>1.67</td>\n",
              "      <td>2.33</td>\n",
              "      <td>0.67</td>\n",
              "      <td>0.33</td>\n",
              "      <td>0.00</td>\n",
              "      <td>3.00</td>\n",
              "      <td>0.0</td>\n",
              "    </tr>\n",
              "    <tr>\n",
              "      <th>15784</th>\n",
              "      <td>I agree with noah. Depression or mental illnes...</td>\n",
              "      <td>3.00</td>\n",
              "      <td>2.33</td>\n",
              "      <td>2.33</td>\n",
              "      <td>2.00</td>\n",
              "      <td>3.00</td>\n",
              "      <td>1.67</td>\n",
              "      <td>0.33</td>\n",
              "      <td>0.00</td>\n",
              "      <td>1.67</td>\n",
              "      <td>0.0</td>\n",
              "    </tr>\n",
              "    <tr>\n",
              "      <th>15785</th>\n",
              "      <td>Love sharing my Gf with Asian boys! HMU if you...</td>\n",
              "      <td>3.67</td>\n",
              "      <td>3.33</td>\n",
              "      <td>2.67</td>\n",
              "      <td>2.00</td>\n",
              "      <td>2.67</td>\n",
              "      <td>2.33</td>\n",
              "      <td>1.67</td>\n",
              "      <td>0.33</td>\n",
              "      <td>2.00</td>\n",
              "      <td>0.0</td>\n",
              "    </tr>\n",
              "  </tbody>\n",
              "</table>\n",
              "</div>\n",
              "      <button class=\"colab-df-convert\" onclick=\"convertToInteractive('df-c25644e0-820e-4aa5-934d-5e8e97b02000')\"\n",
              "              title=\"Convert this dataframe to an interactive table.\"\n",
              "              style=\"display:none;\">\n",
              "        \n",
              "  <svg xmlns=\"http://www.w3.org/2000/svg\" height=\"24px\"viewBox=\"0 0 24 24\"\n",
              "       width=\"24px\">\n",
              "    <path d=\"M0 0h24v24H0V0z\" fill=\"none\"/>\n",
              "    <path d=\"M18.56 5.44l.94 2.06.94-2.06 2.06-.94-2.06-.94-.94-2.06-.94 2.06-2.06.94zm-11 1L8.5 8.5l.94-2.06 2.06-.94-2.06-.94L8.5 2.5l-.94 2.06-2.06.94zm10 10l.94 2.06.94-2.06 2.06-.94-2.06-.94-.94-2.06-.94 2.06-2.06.94z\"/><path d=\"M17.41 7.96l-1.37-1.37c-.4-.4-.92-.59-1.43-.59-.52 0-1.04.2-1.43.59L10.3 9.45l-7.72 7.72c-.78.78-.78 2.05 0 2.83L4 21.41c.39.39.9.59 1.41.59.51 0 1.02-.2 1.41-.59l7.78-7.78 2.81-2.81c.8-.78.8-2.07 0-2.86zM5.41 20L4 18.59l7.72-7.72 1.47 1.35L5.41 20z\"/>\n",
              "  </svg>\n",
              "      </button>\n",
              "      \n",
              "  <style>\n",
              "    .colab-df-container {\n",
              "      display:flex;\n",
              "      flex-wrap:wrap;\n",
              "      gap: 12px;\n",
              "    }\n",
              "\n",
              "    .colab-df-convert {\n",
              "      background-color: #E8F0FE;\n",
              "      border: none;\n",
              "      border-radius: 50%;\n",
              "      cursor: pointer;\n",
              "      display: none;\n",
              "      fill: #1967D2;\n",
              "      height: 32px;\n",
              "      padding: 0 0 0 0;\n",
              "      width: 32px;\n",
              "    }\n",
              "\n",
              "    .colab-df-convert:hover {\n",
              "      background-color: #E2EBFA;\n",
              "      box-shadow: 0px 1px 2px rgba(60, 64, 67, 0.3), 0px 1px 3px 1px rgba(60, 64, 67, 0.15);\n",
              "      fill: #174EA6;\n",
              "    }\n",
              "\n",
              "    [theme=dark] .colab-df-convert {\n",
              "      background-color: #3B4455;\n",
              "      fill: #D2E3FC;\n",
              "    }\n",
              "\n",
              "    [theme=dark] .colab-df-convert:hover {\n",
              "      background-color: #434B5C;\n",
              "      box-shadow: 0px 1px 3px 1px rgba(0, 0, 0, 0.15);\n",
              "      filter: drop-shadow(0px 1px 2px rgba(0, 0, 0, 0.3));\n",
              "      fill: #FFFFFF;\n",
              "    }\n",
              "  </style>\n",
              "\n",
              "      <script>\n",
              "        const buttonEl =\n",
              "          document.querySelector('#df-c25644e0-820e-4aa5-934d-5e8e97b02000 button.colab-df-convert');\n",
              "        buttonEl.style.display =\n",
              "          google.colab.kernel.accessAllowed ? 'block' : 'none';\n",
              "\n",
              "        async function convertToInteractive(key) {\n",
              "          const element = document.querySelector('#df-c25644e0-820e-4aa5-934d-5e8e97b02000');\n",
              "          const dataTable =\n",
              "            await google.colab.kernel.invokeFunction('convertToInteractive',\n",
              "                                                     [key], {});\n",
              "          if (!dataTable) return;\n",
              "\n",
              "          const docLinkHtml = 'Like what you see? Visit the ' +\n",
              "            '<a target=\"_blank\" href=https://colab.research.google.com/notebooks/data_table.ipynb>data table notebook</a>'\n",
              "            + ' to learn more about interactive tables.';\n",
              "          element.innerHTML = '';\n",
              "          dataTable['output_type'] = 'display_data';\n",
              "          await google.colab.output.renderOutput(dataTable, element);\n",
              "          const docLink = document.createElement('div');\n",
              "          docLink.innerHTML = docLinkHtml;\n",
              "          element.appendChild(docLink);\n",
              "        }\n",
              "      </script>\n",
              "    </div>\n",
              "  </div>\n",
              "  "
            ]
          },
          "metadata": {},
          "execution_count": 5
        }
      ]
    },
    {
      "cell_type": "markdown",
      "source": [
        "# Tokenizing and vectorizing text"
      ],
      "metadata": {
        "id": "aODXJW8AfLHk"
      }
    },
    {
      "cell_type": "code",
      "source": [
        "import nltk\n",
        "nltk.download('punkt')\n",
        "nltk.download('stopwords')\n",
        "from nltk.corpus import stopwords\n",
        "STOPWORDS = set(stopwords.words('english'))\n",
        "#Setting English stopwords\n",
        "stopword_list = nltk.corpus.stopwords.words('english')\n",
        "\n",
        "from nltk import word_tokenize,sent_tokenize\n",
        "from nltk.tokenize.toktok import ToktokTokenizer\n",
        "from nltk.stem import PorterStemmer\n",
        "from nltk.tokenize import word_tokenize \n",
        "import requests\n",
        "from string import punctuation"
      ],
      "metadata": {
        "colab": {
          "base_uri": "https://localhost:8080/"
        },
        "id": "aLeUlHEYhz71",
        "outputId": "4081794e-7e57-40fd-c44e-4e204ab44a4a"
      },
      "execution_count": 6,
      "outputs": [
        {
          "output_type": "stream",
          "name": "stderr",
          "text": [
            "[nltk_data] Downloading package punkt to /root/nltk_data...\n",
            "[nltk_data]   Unzipping tokenizers/punkt.zip.\n",
            "[nltk_data] Downloading package stopwords to /root/nltk_data...\n",
            "[nltk_data]   Unzipping corpora/stopwords.zip.\n"
          ]
        }
      ]
    },
    {
      "cell_type": "code",
      "source": [
        "tokenizer = ToktokTokenizer()"
      ],
      "metadata": {
        "id": "TuHuBiYdffGe"
      },
      "execution_count": 7,
      "outputs": []
    },
    {
      "cell_type": "markdown",
      "source": [
        "### Removing stop words"
      ],
      "metadata": {
        "id": "P0IR8slufj3M"
      }
    },
    {
      "cell_type": "code",
      "source": [
        "#set stopwords to english\n",
        "stop = set(stopwords.words('english'))\n",
        "print(stop)\n",
        "\n",
        "#removing the stopwords\n",
        "def remove_stopwords(text, is_lower_case=False):\n",
        "    tokens = tokenizer.tokenize(text)\n",
        "    tokens = [token.strip() for token in tokens]\n",
        "    if is_lower_case:\n",
        "        filtered_tokens = [token for token in tokens if token not in stopword_list]\n",
        "    else:\n",
        "        filtered_tokens = [token for token in tokens if token.lower() not in stopword_list]\n",
        "    filtered_text = ' '.join(filtered_tokens)\n",
        "    return filtered_text\n"
      ],
      "metadata": {
        "colab": {
          "base_uri": "https://localhost:8080/"
        },
        "id": "quah979yffmr",
        "outputId": "08acfedb-eaa6-414b-d27a-0e97a51426b1"
      },
      "execution_count": 8,
      "outputs": [
        {
          "output_type": "stream",
          "name": "stdout",
          "text": [
            "{'after', 'most', 've', 'them', 'haven', 'during', 'should', 'more', \"shouldn't\", 'wasn', 'what', 'from', 'once', 'd', 'ain', 'am', 'in', 'no', 'been', 'any', 'was', 'an', 'it', 'couldn', 'he', 't', 'this', 'whom', 'all', 'themselves', 'through', 'her', \"hasn't\", 'a', 'having', \"couldn't\", 'herself', 'over', 'didn', \"doesn't\", 'where', 'who', \"needn't\", 'does', \"don't\", 'hers', 'here', 'itself', \"you've\", \"didn't\", 'y', 'there', 'needn', 'nor', \"you'll\", 'between', \"that'll\", 'be', 'each', 'him', 'my', 'same', 'were', 'again', 'wouldn', \"you'd\", 'll', 'for', 'will', 'myself', 'as', 'while', 'mustn', 'down', 'about', 'm', 'did', 'some', 's', \"hadn't\", 'why', \"mightn't\", 'shouldn', 'but', 'against', 'mightn', 'weren', 'hadn', \"mustn't\", 'if', 'doing', \"you're\", 'not', 'ourselves', 'your', 'because', 'yours', 'off', 'his', 'to', 'shan', \"haven't\", 'few', 'too', 'further', 'had', 'we', 'then', \"she's\", 'aren', 'just', 're', 'until', 'me', 'so', \"wasn't\", \"shan't\", 'only', 'the', \"isn't\", 'than', 'do', \"weren't\", 'or', 'ma', 'these', 'of', 'own', 'above', 'which', 'out', 'being', 'have', 'into', 'by', 'at', 'is', 'isn', 'other', \"aren't\", \"should've\", 'its', 'theirs', 'o', 'before', 'she', 'can', 'ours', 'their', 'with', 'himself', 'now', 'on', 'under', 'you', 'has', \"won't\", 'how', 'those', 'are', 'very', 'they', 'both', \"wouldn't\", \"it's\", 'when', 'won', 'such', 'up', 'hasn', 'that', 'and', 'below', 'i', 'doesn', 'don', 'our', 'yourself', 'yourselves'}\n"
          ]
        }
      ]
    },
    {
      "cell_type": "code",
      "source": [
        "#Apply function on review column\n",
        "train['text'] = train['text'].apply(remove_stopwords)\n",
        "test['text'] = test['text'].apply(remove_stopwords)\n",
        "\n",
        "train.head()"
      ],
      "metadata": {
        "colab": {
          "base_uri": "https://localhost:8080/",
          "height": 513
        },
        "id": "Uyia3r1Ch4BN",
        "outputId": "dddadf6a-20a9-4e2f-cecc-06dadf4a1e29"
      },
      "execution_count": 9,
      "outputs": [
        {
          "output_type": "execute_result",
          "data": {
            "text/plain": [
              "                                                text  sense  honor  curse  \\\n",
              "0                       amazing ! Kudos women strong   0.00   0.00   0.00   \n",
              "1     @IlhanMN Omar-you racist ! Resign ! deported !   4.00   3.67   3.33   \n",
              "2  feel same. El Paso made open understanding per...   1.00   1.50   0.50   \n",
              "3                  Stop putting ugly white person tl   3.67   3.00   2.67   \n",
              "4  Gautam Gambhir ! ! ! Lol. Come ! ! ! Elections...   3.33   3.33   2.00   \n",
              "\n",
              "   despise  situation  antihuman  roughness  slaughter  strike_support  \\\n",
              "0     0.00       1.00       0.00       0.00       0.00            1.00   \n",
              "1     2.67       3.00       1.33       1.33       0.67            3.00   \n",
              "2     0.50       2.00       1.50       0.50       0.50            1.50   \n",
              "3     2.33       2.33       1.00       0.00       0.00            2.33   \n",
              "4     2.00       2.00       1.67       0.33       0.00            3.00   \n",
              "\n",
              "   depression_rate  \n",
              "0             0.00  \n",
              "1             0.00  \n",
              "2             0.00  \n",
              "3             0.00  \n",
              "4             0.33  "
            ],
            "text/html": [
              "\n",
              "  <div id=\"df-6226ab1a-a50e-48b7-91dc-f8bb401b05b9\">\n",
              "    <div class=\"colab-df-container\">\n",
              "      <div>\n",
              "<style scoped>\n",
              "    .dataframe tbody tr th:only-of-type {\n",
              "        vertical-align: middle;\n",
              "    }\n",
              "\n",
              "    .dataframe tbody tr th {\n",
              "        vertical-align: top;\n",
              "    }\n",
              "\n",
              "    .dataframe thead th {\n",
              "        text-align: right;\n",
              "    }\n",
              "</style>\n",
              "<table border=\"1\" class=\"dataframe\">\n",
              "  <thead>\n",
              "    <tr style=\"text-align: right;\">\n",
              "      <th></th>\n",
              "      <th>text</th>\n",
              "      <th>sense</th>\n",
              "      <th>honor</th>\n",
              "      <th>curse</th>\n",
              "      <th>despise</th>\n",
              "      <th>situation</th>\n",
              "      <th>antihuman</th>\n",
              "      <th>roughness</th>\n",
              "      <th>slaughter</th>\n",
              "      <th>strike_support</th>\n",
              "      <th>depression_rate</th>\n",
              "    </tr>\n",
              "  </thead>\n",
              "  <tbody>\n",
              "    <tr>\n",
              "      <th>0</th>\n",
              "      <td>amazing ! Kudos women strong</td>\n",
              "      <td>0.00</td>\n",
              "      <td>0.00</td>\n",
              "      <td>0.00</td>\n",
              "      <td>0.00</td>\n",
              "      <td>1.00</td>\n",
              "      <td>0.00</td>\n",
              "      <td>0.00</td>\n",
              "      <td>0.00</td>\n",
              "      <td>1.00</td>\n",
              "      <td>0.00</td>\n",
              "    </tr>\n",
              "    <tr>\n",
              "      <th>1</th>\n",
              "      <td>@IlhanMN Omar-you racist ! Resign ! deported !</td>\n",
              "      <td>4.00</td>\n",
              "      <td>3.67</td>\n",
              "      <td>3.33</td>\n",
              "      <td>2.67</td>\n",
              "      <td>3.00</td>\n",
              "      <td>1.33</td>\n",
              "      <td>1.33</td>\n",
              "      <td>0.67</td>\n",
              "      <td>3.00</td>\n",
              "      <td>0.00</td>\n",
              "    </tr>\n",
              "    <tr>\n",
              "      <th>2</th>\n",
              "      <td>feel same. El Paso made open understanding per...</td>\n",
              "      <td>1.00</td>\n",
              "      <td>1.50</td>\n",
              "      <td>0.50</td>\n",
              "      <td>0.50</td>\n",
              "      <td>2.00</td>\n",
              "      <td>1.50</td>\n",
              "      <td>0.50</td>\n",
              "      <td>0.50</td>\n",
              "      <td>1.50</td>\n",
              "      <td>0.00</td>\n",
              "    </tr>\n",
              "    <tr>\n",
              "      <th>3</th>\n",
              "      <td>Stop putting ugly white person tl</td>\n",
              "      <td>3.67</td>\n",
              "      <td>3.00</td>\n",
              "      <td>2.67</td>\n",
              "      <td>2.33</td>\n",
              "      <td>2.33</td>\n",
              "      <td>1.00</td>\n",
              "      <td>0.00</td>\n",
              "      <td>0.00</td>\n",
              "      <td>2.33</td>\n",
              "      <td>0.00</td>\n",
              "    </tr>\n",
              "    <tr>\n",
              "      <th>4</th>\n",
              "      <td>Gautam Gambhir ! ! ! Lol. Come ! ! ! Elections...</td>\n",
              "      <td>3.33</td>\n",
              "      <td>3.33</td>\n",
              "      <td>2.00</td>\n",
              "      <td>2.00</td>\n",
              "      <td>2.00</td>\n",
              "      <td>1.67</td>\n",
              "      <td>0.33</td>\n",
              "      <td>0.00</td>\n",
              "      <td>3.00</td>\n",
              "      <td>0.33</td>\n",
              "    </tr>\n",
              "  </tbody>\n",
              "</table>\n",
              "</div>\n",
              "      <button class=\"colab-df-convert\" onclick=\"convertToInteractive('df-6226ab1a-a50e-48b7-91dc-f8bb401b05b9')\"\n",
              "              title=\"Convert this dataframe to an interactive table.\"\n",
              "              style=\"display:none;\">\n",
              "        \n",
              "  <svg xmlns=\"http://www.w3.org/2000/svg\" height=\"24px\"viewBox=\"0 0 24 24\"\n",
              "       width=\"24px\">\n",
              "    <path d=\"M0 0h24v24H0V0z\" fill=\"none\"/>\n",
              "    <path d=\"M18.56 5.44l.94 2.06.94-2.06 2.06-.94-2.06-.94-.94-2.06-.94 2.06-2.06.94zm-11 1L8.5 8.5l.94-2.06 2.06-.94-2.06-.94L8.5 2.5l-.94 2.06-2.06.94zm10 10l.94 2.06.94-2.06 2.06-.94-2.06-.94-.94-2.06-.94 2.06-2.06.94z\"/><path d=\"M17.41 7.96l-1.37-1.37c-.4-.4-.92-.59-1.43-.59-.52 0-1.04.2-1.43.59L10.3 9.45l-7.72 7.72c-.78.78-.78 2.05 0 2.83L4 21.41c.39.39.9.59 1.41.59.51 0 1.02-.2 1.41-.59l7.78-7.78 2.81-2.81c.8-.78.8-2.07 0-2.86zM5.41 20L4 18.59l7.72-7.72 1.47 1.35L5.41 20z\"/>\n",
              "  </svg>\n",
              "      </button>\n",
              "      \n",
              "  <style>\n",
              "    .colab-df-container {\n",
              "      display:flex;\n",
              "      flex-wrap:wrap;\n",
              "      gap: 12px;\n",
              "    }\n",
              "\n",
              "    .colab-df-convert {\n",
              "      background-color: #E8F0FE;\n",
              "      border: none;\n",
              "      border-radius: 50%;\n",
              "      cursor: pointer;\n",
              "      display: none;\n",
              "      fill: #1967D2;\n",
              "      height: 32px;\n",
              "      padding: 0 0 0 0;\n",
              "      width: 32px;\n",
              "    }\n",
              "\n",
              "    .colab-df-convert:hover {\n",
              "      background-color: #E2EBFA;\n",
              "      box-shadow: 0px 1px 2px rgba(60, 64, 67, 0.3), 0px 1px 3px 1px rgba(60, 64, 67, 0.15);\n",
              "      fill: #174EA6;\n",
              "    }\n",
              "\n",
              "    [theme=dark] .colab-df-convert {\n",
              "      background-color: #3B4455;\n",
              "      fill: #D2E3FC;\n",
              "    }\n",
              "\n",
              "    [theme=dark] .colab-df-convert:hover {\n",
              "      background-color: #434B5C;\n",
              "      box-shadow: 0px 1px 3px 1px rgba(0, 0, 0, 0.15);\n",
              "      filter: drop-shadow(0px 1px 2px rgba(0, 0, 0, 0.3));\n",
              "      fill: #FFFFFF;\n",
              "    }\n",
              "  </style>\n",
              "\n",
              "      <script>\n",
              "        const buttonEl =\n",
              "          document.querySelector('#df-6226ab1a-a50e-48b7-91dc-f8bb401b05b9 button.colab-df-convert');\n",
              "        buttonEl.style.display =\n",
              "          google.colab.kernel.accessAllowed ? 'block' : 'none';\n",
              "\n",
              "        async function convertToInteractive(key) {\n",
              "          const element = document.querySelector('#df-6226ab1a-a50e-48b7-91dc-f8bb401b05b9');\n",
              "          const dataTable =\n",
              "            await google.colab.kernel.invokeFunction('convertToInteractive',\n",
              "                                                     [key], {});\n",
              "          if (!dataTable) return;\n",
              "\n",
              "          const docLinkHtml = 'Like what you see? Visit the ' +\n",
              "            '<a target=\"_blank\" href=https://colab.research.google.com/notebooks/data_table.ipynb>data table notebook</a>'\n",
              "            + ' to learn more about interactive tables.';\n",
              "          element.innerHTML = '';\n",
              "          dataTable['output_type'] = 'display_data';\n",
              "          await google.colab.output.renderOutput(dataTable, element);\n",
              "          const docLink = document.createElement('div');\n",
              "          docLink.innerHTML = docLinkHtml;\n",
              "          element.appendChild(docLink);\n",
              "        }\n",
              "      </script>\n",
              "    </div>\n",
              "  </div>\n",
              "  "
            ]
          },
          "metadata": {},
          "execution_count": 9
        }
      ]
    },
    {
      "cell_type": "markdown",
      "source": [
        "### Removing special characters"
      ],
      "metadata": {
        "id": "8TCpg1yzftZE"
      }
    },
    {
      "cell_type": "code",
      "source": [
        "def remove_special_characters(text, remove_digits=True):\n",
        "    pattern = r'[^a-zA-z0-9\\s]'\n",
        "    text = re.sub(pattern,'',text)\n",
        "    return text"
      ],
      "metadata": {
        "id": "lzSaCYHQf2SU"
      },
      "execution_count": 10,
      "outputs": []
    },
    {
      "cell_type": "code",
      "source": [
        "#Apply function on review column\n",
        "train['text'] = train['text'].apply(remove_special_characters)\n",
        "test['text'] = test['text'].apply(remove_special_characters)\n",
        "\n",
        "train.head()"
      ],
      "metadata": {
        "colab": {
          "base_uri": "https://localhost:8080/",
          "height": 530
        },
        "id": "MEzNpHCvi91T",
        "outputId": "f9691579-a898-4692-b63f-ad87c3f5a270"
      },
      "execution_count": 11,
      "outputs": [
        {
          "output_type": "execute_result",
          "data": {
            "text/plain": [
              "                                                text  sense  honor  curse  \\\n",
              "0                        amazing  Kudos women strong   0.00   0.00   0.00   \n",
              "1          IlhanMN Omaryou racist  Resign  deported    4.00   3.67   3.33   \n",
              "2  feel same El Paso made open understanding pers...   1.00   1.50   0.50   \n",
              "3                  Stop putting ugly white person tl   3.67   3.00   2.67   \n",
              "4  Gautam Gambhir    Lol Come    Elections India ...   3.33   3.33   2.00   \n",
              "\n",
              "   despise  situation  antihuman  roughness  slaughter  strike_support  \\\n",
              "0     0.00       1.00       0.00       0.00       0.00            1.00   \n",
              "1     2.67       3.00       1.33       1.33       0.67            3.00   \n",
              "2     0.50       2.00       1.50       0.50       0.50            1.50   \n",
              "3     2.33       2.33       1.00       0.00       0.00            2.33   \n",
              "4     2.00       2.00       1.67       0.33       0.00            3.00   \n",
              "\n",
              "   depression_rate  \n",
              "0             0.00  \n",
              "1             0.00  \n",
              "2             0.00  \n",
              "3             0.00  \n",
              "4             0.33  "
            ],
            "text/html": [
              "\n",
              "  <div id=\"df-be32c33d-b81a-418d-b046-a13a851d27f7\">\n",
              "    <div class=\"colab-df-container\">\n",
              "      <div>\n",
              "<style scoped>\n",
              "    .dataframe tbody tr th:only-of-type {\n",
              "        vertical-align: middle;\n",
              "    }\n",
              "\n",
              "    .dataframe tbody tr th {\n",
              "        vertical-align: top;\n",
              "    }\n",
              "\n",
              "    .dataframe thead th {\n",
              "        text-align: right;\n",
              "    }\n",
              "</style>\n",
              "<table border=\"1\" class=\"dataframe\">\n",
              "  <thead>\n",
              "    <tr style=\"text-align: right;\">\n",
              "      <th></th>\n",
              "      <th>text</th>\n",
              "      <th>sense</th>\n",
              "      <th>honor</th>\n",
              "      <th>curse</th>\n",
              "      <th>despise</th>\n",
              "      <th>situation</th>\n",
              "      <th>antihuman</th>\n",
              "      <th>roughness</th>\n",
              "      <th>slaughter</th>\n",
              "      <th>strike_support</th>\n",
              "      <th>depression_rate</th>\n",
              "    </tr>\n",
              "  </thead>\n",
              "  <tbody>\n",
              "    <tr>\n",
              "      <th>0</th>\n",
              "      <td>amazing  Kudos women strong</td>\n",
              "      <td>0.00</td>\n",
              "      <td>0.00</td>\n",
              "      <td>0.00</td>\n",
              "      <td>0.00</td>\n",
              "      <td>1.00</td>\n",
              "      <td>0.00</td>\n",
              "      <td>0.00</td>\n",
              "      <td>0.00</td>\n",
              "      <td>1.00</td>\n",
              "      <td>0.00</td>\n",
              "    </tr>\n",
              "    <tr>\n",
              "      <th>1</th>\n",
              "      <td>IlhanMN Omaryou racist  Resign  deported</td>\n",
              "      <td>4.00</td>\n",
              "      <td>3.67</td>\n",
              "      <td>3.33</td>\n",
              "      <td>2.67</td>\n",
              "      <td>3.00</td>\n",
              "      <td>1.33</td>\n",
              "      <td>1.33</td>\n",
              "      <td>0.67</td>\n",
              "      <td>3.00</td>\n",
              "      <td>0.00</td>\n",
              "    </tr>\n",
              "    <tr>\n",
              "      <th>2</th>\n",
              "      <td>feel same El Paso made open understanding pers...</td>\n",
              "      <td>1.00</td>\n",
              "      <td>1.50</td>\n",
              "      <td>0.50</td>\n",
              "      <td>0.50</td>\n",
              "      <td>2.00</td>\n",
              "      <td>1.50</td>\n",
              "      <td>0.50</td>\n",
              "      <td>0.50</td>\n",
              "      <td>1.50</td>\n",
              "      <td>0.00</td>\n",
              "    </tr>\n",
              "    <tr>\n",
              "      <th>3</th>\n",
              "      <td>Stop putting ugly white person tl</td>\n",
              "      <td>3.67</td>\n",
              "      <td>3.00</td>\n",
              "      <td>2.67</td>\n",
              "      <td>2.33</td>\n",
              "      <td>2.33</td>\n",
              "      <td>1.00</td>\n",
              "      <td>0.00</td>\n",
              "      <td>0.00</td>\n",
              "      <td>2.33</td>\n",
              "      <td>0.00</td>\n",
              "    </tr>\n",
              "    <tr>\n",
              "      <th>4</th>\n",
              "      <td>Gautam Gambhir    Lol Come    Elections India ...</td>\n",
              "      <td>3.33</td>\n",
              "      <td>3.33</td>\n",
              "      <td>2.00</td>\n",
              "      <td>2.00</td>\n",
              "      <td>2.00</td>\n",
              "      <td>1.67</td>\n",
              "      <td>0.33</td>\n",
              "      <td>0.00</td>\n",
              "      <td>3.00</td>\n",
              "      <td>0.33</td>\n",
              "    </tr>\n",
              "  </tbody>\n",
              "</table>\n",
              "</div>\n",
              "      <button class=\"colab-df-convert\" onclick=\"convertToInteractive('df-be32c33d-b81a-418d-b046-a13a851d27f7')\"\n",
              "              title=\"Convert this dataframe to an interactive table.\"\n",
              "              style=\"display:none;\">\n",
              "        \n",
              "  <svg xmlns=\"http://www.w3.org/2000/svg\" height=\"24px\"viewBox=\"0 0 24 24\"\n",
              "       width=\"24px\">\n",
              "    <path d=\"M0 0h24v24H0V0z\" fill=\"none\"/>\n",
              "    <path d=\"M18.56 5.44l.94 2.06.94-2.06 2.06-.94-2.06-.94-.94-2.06-.94 2.06-2.06.94zm-11 1L8.5 8.5l.94-2.06 2.06-.94-2.06-.94L8.5 2.5l-.94 2.06-2.06.94zm10 10l.94 2.06.94-2.06 2.06-.94-2.06-.94-.94-2.06-.94 2.06-2.06.94z\"/><path d=\"M17.41 7.96l-1.37-1.37c-.4-.4-.92-.59-1.43-.59-.52 0-1.04.2-1.43.59L10.3 9.45l-7.72 7.72c-.78.78-.78 2.05 0 2.83L4 21.41c.39.39.9.59 1.41.59.51 0 1.02-.2 1.41-.59l7.78-7.78 2.81-2.81c.8-.78.8-2.07 0-2.86zM5.41 20L4 18.59l7.72-7.72 1.47 1.35L5.41 20z\"/>\n",
              "  </svg>\n",
              "      </button>\n",
              "      \n",
              "  <style>\n",
              "    .colab-df-container {\n",
              "      display:flex;\n",
              "      flex-wrap:wrap;\n",
              "      gap: 12px;\n",
              "    }\n",
              "\n",
              "    .colab-df-convert {\n",
              "      background-color: #E8F0FE;\n",
              "      border: none;\n",
              "      border-radius: 50%;\n",
              "      cursor: pointer;\n",
              "      display: none;\n",
              "      fill: #1967D2;\n",
              "      height: 32px;\n",
              "      padding: 0 0 0 0;\n",
              "      width: 32px;\n",
              "    }\n",
              "\n",
              "    .colab-df-convert:hover {\n",
              "      background-color: #E2EBFA;\n",
              "      box-shadow: 0px 1px 2px rgba(60, 64, 67, 0.3), 0px 1px 3px 1px rgba(60, 64, 67, 0.15);\n",
              "      fill: #174EA6;\n",
              "    }\n",
              "\n",
              "    [theme=dark] .colab-df-convert {\n",
              "      background-color: #3B4455;\n",
              "      fill: #D2E3FC;\n",
              "    }\n",
              "\n",
              "    [theme=dark] .colab-df-convert:hover {\n",
              "      background-color: #434B5C;\n",
              "      box-shadow: 0px 1px 3px 1px rgba(0, 0, 0, 0.15);\n",
              "      filter: drop-shadow(0px 1px 2px rgba(0, 0, 0, 0.3));\n",
              "      fill: #FFFFFF;\n",
              "    }\n",
              "  </style>\n",
              "\n",
              "      <script>\n",
              "        const buttonEl =\n",
              "          document.querySelector('#df-be32c33d-b81a-418d-b046-a13a851d27f7 button.colab-df-convert');\n",
              "        buttonEl.style.display =\n",
              "          google.colab.kernel.accessAllowed ? 'block' : 'none';\n",
              "\n",
              "        async function convertToInteractive(key) {\n",
              "          const element = document.querySelector('#df-be32c33d-b81a-418d-b046-a13a851d27f7');\n",
              "          const dataTable =\n",
              "            await google.colab.kernel.invokeFunction('convertToInteractive',\n",
              "                                                     [key], {});\n",
              "          if (!dataTable) return;\n",
              "\n",
              "          const docLinkHtml = 'Like what you see? Visit the ' +\n",
              "            '<a target=\"_blank\" href=https://colab.research.google.com/notebooks/data_table.ipynb>data table notebook</a>'\n",
              "            + ' to learn more about interactive tables.';\n",
              "          element.innerHTML = '';\n",
              "          dataTable['output_type'] = 'display_data';\n",
              "          await google.colab.output.renderOutput(dataTable, element);\n",
              "          const docLink = document.createElement('div');\n",
              "          docLink.innerHTML = docLinkHtml;\n",
              "          element.appendChild(docLink);\n",
              "        }\n",
              "      </script>\n",
              "    </div>\n",
              "  </div>\n",
              "  "
            ]
          },
          "metadata": {},
          "execution_count": 11
        }
      ]
    },
    {
      "cell_type": "markdown",
      "source": [
        "### Stemming"
      ],
      "metadata": {
        "id": "z-ZsCtfPfz0M"
      }
    },
    {
      "cell_type": "code",
      "source": [
        "def simple_stemmer(text):\n",
        "    ps=nltk.porter.PorterStemmer()\n",
        "    text= ' '.join([ps.stem(word) for word in text.split()])\n",
        "    return text"
      ],
      "metadata": {
        "id": "n0u4viiNftHe"
      },
      "execution_count": 12,
      "outputs": []
    },
    {
      "cell_type": "code",
      "source": [
        "#Apply function on review column\n",
        "train['text'] = train['text'].apply(simple_stemmer)\n",
        "test['text'] = test['text'].apply(simple_stemmer)\n",
        "\n",
        "train.head()"
      ],
      "metadata": {
        "colab": {
          "base_uri": "https://localhost:8080/",
          "height": 565
        },
        "id": "BggitwHXjI47",
        "outputId": "938f790f-4ece-483e-fab4-60f9d9a5644c"
      },
      "execution_count": 13,
      "outputs": [
        {
          "output_type": "execute_result",
          "data": {
            "text/plain": [
              "                                                text  sense  honor  curse  \\\n",
              "0                             amaz kudo women strong   0.00   0.00   0.00   \n",
              "1                 ilhanmn omary racist resign deport   4.00   3.67   3.33   \n",
              "2  feel same el paso made open understand person ...   1.00   1.50   0.50   \n",
              "3                      stop put ugli white person tl   3.67   3.00   2.67   \n",
              "4  gautam gambhir lol come elect india conduct co...   3.33   3.33   2.00   \n",
              "\n",
              "   despise  situation  antihuman  roughness  slaughter  strike_support  \\\n",
              "0     0.00       1.00       0.00       0.00       0.00            1.00   \n",
              "1     2.67       3.00       1.33       1.33       0.67            3.00   \n",
              "2     0.50       2.00       1.50       0.50       0.50            1.50   \n",
              "3     2.33       2.33       1.00       0.00       0.00            2.33   \n",
              "4     2.00       2.00       1.67       0.33       0.00            3.00   \n",
              "\n",
              "   depression_rate  \n",
              "0             0.00  \n",
              "1             0.00  \n",
              "2             0.00  \n",
              "3             0.00  \n",
              "4             0.33  "
            ],
            "text/html": [
              "\n",
              "  <div id=\"df-c8faee42-148e-4f47-8d18-9917adaced10\">\n",
              "    <div class=\"colab-df-container\">\n",
              "      <div>\n",
              "<style scoped>\n",
              "    .dataframe tbody tr th:only-of-type {\n",
              "        vertical-align: middle;\n",
              "    }\n",
              "\n",
              "    .dataframe tbody tr th {\n",
              "        vertical-align: top;\n",
              "    }\n",
              "\n",
              "    .dataframe thead th {\n",
              "        text-align: right;\n",
              "    }\n",
              "</style>\n",
              "<table border=\"1\" class=\"dataframe\">\n",
              "  <thead>\n",
              "    <tr style=\"text-align: right;\">\n",
              "      <th></th>\n",
              "      <th>text</th>\n",
              "      <th>sense</th>\n",
              "      <th>honor</th>\n",
              "      <th>curse</th>\n",
              "      <th>despise</th>\n",
              "      <th>situation</th>\n",
              "      <th>antihuman</th>\n",
              "      <th>roughness</th>\n",
              "      <th>slaughter</th>\n",
              "      <th>strike_support</th>\n",
              "      <th>depression_rate</th>\n",
              "    </tr>\n",
              "  </thead>\n",
              "  <tbody>\n",
              "    <tr>\n",
              "      <th>0</th>\n",
              "      <td>amaz kudo women strong</td>\n",
              "      <td>0.00</td>\n",
              "      <td>0.00</td>\n",
              "      <td>0.00</td>\n",
              "      <td>0.00</td>\n",
              "      <td>1.00</td>\n",
              "      <td>0.00</td>\n",
              "      <td>0.00</td>\n",
              "      <td>0.00</td>\n",
              "      <td>1.00</td>\n",
              "      <td>0.00</td>\n",
              "    </tr>\n",
              "    <tr>\n",
              "      <th>1</th>\n",
              "      <td>ilhanmn omary racist resign deport</td>\n",
              "      <td>4.00</td>\n",
              "      <td>3.67</td>\n",
              "      <td>3.33</td>\n",
              "      <td>2.67</td>\n",
              "      <td>3.00</td>\n",
              "      <td>1.33</td>\n",
              "      <td>1.33</td>\n",
              "      <td>0.67</td>\n",
              "      <td>3.00</td>\n",
              "      <td>0.00</td>\n",
              "    </tr>\n",
              "    <tr>\n",
              "      <th>2</th>\n",
              "      <td>feel same el paso made open understand person ...</td>\n",
              "      <td>1.00</td>\n",
              "      <td>1.50</td>\n",
              "      <td>0.50</td>\n",
              "      <td>0.50</td>\n",
              "      <td>2.00</td>\n",
              "      <td>1.50</td>\n",
              "      <td>0.50</td>\n",
              "      <td>0.50</td>\n",
              "      <td>1.50</td>\n",
              "      <td>0.00</td>\n",
              "    </tr>\n",
              "    <tr>\n",
              "      <th>3</th>\n",
              "      <td>stop put ugli white person tl</td>\n",
              "      <td>3.67</td>\n",
              "      <td>3.00</td>\n",
              "      <td>2.67</td>\n",
              "      <td>2.33</td>\n",
              "      <td>2.33</td>\n",
              "      <td>1.00</td>\n",
              "      <td>0.00</td>\n",
              "      <td>0.00</td>\n",
              "      <td>2.33</td>\n",
              "      <td>0.00</td>\n",
              "    </tr>\n",
              "    <tr>\n",
              "      <th>4</th>\n",
              "      <td>gautam gambhir lol come elect india conduct co...</td>\n",
              "      <td>3.33</td>\n",
              "      <td>3.33</td>\n",
              "      <td>2.00</td>\n",
              "      <td>2.00</td>\n",
              "      <td>2.00</td>\n",
              "      <td>1.67</td>\n",
              "      <td>0.33</td>\n",
              "      <td>0.00</td>\n",
              "      <td>3.00</td>\n",
              "      <td>0.33</td>\n",
              "    </tr>\n",
              "  </tbody>\n",
              "</table>\n",
              "</div>\n",
              "      <button class=\"colab-df-convert\" onclick=\"convertToInteractive('df-c8faee42-148e-4f47-8d18-9917adaced10')\"\n",
              "              title=\"Convert this dataframe to an interactive table.\"\n",
              "              style=\"display:none;\">\n",
              "        \n",
              "  <svg xmlns=\"http://www.w3.org/2000/svg\" height=\"24px\"viewBox=\"0 0 24 24\"\n",
              "       width=\"24px\">\n",
              "    <path d=\"M0 0h24v24H0V0z\" fill=\"none\"/>\n",
              "    <path d=\"M18.56 5.44l.94 2.06.94-2.06 2.06-.94-2.06-.94-.94-2.06-.94 2.06-2.06.94zm-11 1L8.5 8.5l.94-2.06 2.06-.94-2.06-.94L8.5 2.5l-.94 2.06-2.06.94zm10 10l.94 2.06.94-2.06 2.06-.94-2.06-.94-.94-2.06-.94 2.06-2.06.94z\"/><path d=\"M17.41 7.96l-1.37-1.37c-.4-.4-.92-.59-1.43-.59-.52 0-1.04.2-1.43.59L10.3 9.45l-7.72 7.72c-.78.78-.78 2.05 0 2.83L4 21.41c.39.39.9.59 1.41.59.51 0 1.02-.2 1.41-.59l7.78-7.78 2.81-2.81c.8-.78.8-2.07 0-2.86zM5.41 20L4 18.59l7.72-7.72 1.47 1.35L5.41 20z\"/>\n",
              "  </svg>\n",
              "      </button>\n",
              "      \n",
              "  <style>\n",
              "    .colab-df-container {\n",
              "      display:flex;\n",
              "      flex-wrap:wrap;\n",
              "      gap: 12px;\n",
              "    }\n",
              "\n",
              "    .colab-df-convert {\n",
              "      background-color: #E8F0FE;\n",
              "      border: none;\n",
              "      border-radius: 50%;\n",
              "      cursor: pointer;\n",
              "      display: none;\n",
              "      fill: #1967D2;\n",
              "      height: 32px;\n",
              "      padding: 0 0 0 0;\n",
              "      width: 32px;\n",
              "    }\n",
              "\n",
              "    .colab-df-convert:hover {\n",
              "      background-color: #E2EBFA;\n",
              "      box-shadow: 0px 1px 2px rgba(60, 64, 67, 0.3), 0px 1px 3px 1px rgba(60, 64, 67, 0.15);\n",
              "      fill: #174EA6;\n",
              "    }\n",
              "\n",
              "    [theme=dark] .colab-df-convert {\n",
              "      background-color: #3B4455;\n",
              "      fill: #D2E3FC;\n",
              "    }\n",
              "\n",
              "    [theme=dark] .colab-df-convert:hover {\n",
              "      background-color: #434B5C;\n",
              "      box-shadow: 0px 1px 3px 1px rgba(0, 0, 0, 0.15);\n",
              "      filter: drop-shadow(0px 1px 2px rgba(0, 0, 0, 0.3));\n",
              "      fill: #FFFFFF;\n",
              "    }\n",
              "  </style>\n",
              "\n",
              "      <script>\n",
              "        const buttonEl =\n",
              "          document.querySelector('#df-c8faee42-148e-4f47-8d18-9917adaced10 button.colab-df-convert');\n",
              "        buttonEl.style.display =\n",
              "          google.colab.kernel.accessAllowed ? 'block' : 'none';\n",
              "\n",
              "        async function convertToInteractive(key) {\n",
              "          const element = document.querySelector('#df-c8faee42-148e-4f47-8d18-9917adaced10');\n",
              "          const dataTable =\n",
              "            await google.colab.kernel.invokeFunction('convertToInteractive',\n",
              "                                                     [key], {});\n",
              "          if (!dataTable) return;\n",
              "\n",
              "          const docLinkHtml = 'Like what you see? Visit the ' +\n",
              "            '<a target=\"_blank\" href=https://colab.research.google.com/notebooks/data_table.ipynb>data table notebook</a>'\n",
              "            + ' to learn more about interactive tables.';\n",
              "          element.innerHTML = '';\n",
              "          dataTable['output_type'] = 'display_data';\n",
              "          await google.colab.output.renderOutput(dataTable, element);\n",
              "          const docLink = document.createElement('div');\n",
              "          docLink.innerHTML = docLinkHtml;\n",
              "          element.appendChild(docLink);\n",
              "        }\n",
              "      </script>\n",
              "    </div>\n",
              "  </div>\n",
              "  "
            ]
          },
          "metadata": {},
          "execution_count": 13
        }
      ]
    },
    {
      "cell_type": "markdown",
      "source": [
        "### Removing low frequency words"
      ],
      "metadata": {
        "id": "LhlyQ-D2gB28"
      }
    },
    {
      "cell_type": "code",
      "source": [
        "freq_train = pd.Series(' '.join(train['text']).split()).value_counts()\n",
        "less_five_freq_train = freq_train[(freq_train <5)]\n",
        "print(less_five_freq_train)\n",
        "\n",
        "freq_test = pd.Series(' '.join(test['text']).split()).value_counts()\n",
        "less_five_freq_test = freq_test[(freq_test <5)]\n",
        "print(less_five_freq_test)\n",
        "\n",
        "train['text'] = train['text'].apply(lambda x: ' '.join(x for x in x.split() if x not in less_five_freq_train))\n",
        "test['text'] = test['text'].apply(lambda x: ' '.join(x for x in x.split() if x not in less_five_freq_test))"
      ],
      "metadata": {
        "colab": {
          "base_uri": "https://localhost:8080/"
        },
        "id": "fbTfmPhRgN0f",
        "outputId": "35e1c535-2a25-47e4-fc08-d760d6b09757"
      },
      "execution_count": 14,
      "outputs": [
        {
          "output_type": "stream",
          "name": "stdout",
          "text": [
            "sharif          4\n",
            "stupidest       4\n",
            "corybook        4\n",
            "vp              4\n",
            "talkin          4\n",
            "               ..\n",
            "nbaespnmedia    1\n",
            "peaceful        1\n",
            "palestina       1\n",
            "frankunlaw      1\n",
            "loooool         1\n",
            "Length: 16169, dtype: int64\n",
            "sub              4\n",
            "sleep            4\n",
            "wild             4\n",
            "homophobia       4\n",
            "side             4\n",
            "                ..\n",
            "epimoniamn       1\n",
            "meimeifox        1\n",
            "forb             1\n",
            "to6              1\n",
            "predominantli    1\n",
            "Length: 4682, dtype: int64\n"
          ]
        }
      ]
    },
    {
      "cell_type": "markdown",
      "source": [
        "### Normalizing"
      ],
      "metadata": {
        "id": "GKKgjd2xgT5m"
      }
    },
    {
      "cell_type": "code",
      "source": [
        "#Normalized train reviews\n",
        "norm_train_reviews = train.text[:]\n",
        "norm_train_reviews.head()"
      ],
      "metadata": {
        "colab": {
          "base_uri": "https://localhost:8080/"
        },
        "id": "QmvexoDUgOmU",
        "outputId": "6d065057-4c73-4f89-93f6-03d809b09b94"
      },
      "execution_count": 15,
      "outputs": [
        {
          "output_type": "execute_result",
          "data": {
            "text/plain": [
              "0                               amaz kudo women strong\n",
              "1                         ilhanmn racist resign deport\n",
              "2    feel same el paso made open understand person ...\n",
              "3                        stop put ugli white person tl\n",
              "4    lol come elect india conduct control us uk bjp...\n",
              "Name: text, dtype: object"
            ]
          },
          "metadata": {},
          "execution_count": 15
        }
      ]
    },
    {
      "cell_type": "code",
      "source": [
        "#Normalized test reviews\n",
        "norm_test_reviews = test.text[:]"
      ],
      "metadata": {
        "id": "A9xHV28Qjf_j"
      },
      "execution_count": 16,
      "outputs": []
    },
    {
      "cell_type": "markdown",
      "source": [
        "### Counting vectorizer for TFIDF"
      ],
      "metadata": {
        "id": "o8EiW-TOgZ7E"
      }
    },
    {
      "cell_type": "code",
      "source": [
        "# Count vectorizer for TFIDF\n",
        "tv = TfidfVectorizer()\n",
        "\n",
        "# transformed train reviews\n",
        "tv_train_reviews = tv.fit_transform(norm_train_reviews)\n",
        "\n",
        "# transformed test reviews\n",
        "# Do not use fit_transform for test set because same size vector for test set\n",
        "tv_test_reviews = tv.transform(norm_test_reviews)\n",
        "\n",
        "print('Tfidf_train:', tv_train_reviews.shape)\n",
        "print('Tfidf_test:', tv_test_reviews.shape)"
      ],
      "metadata": {
        "colab": {
          "base_uri": "https://localhost:8080/"
        },
        "id": "7QCAkPLHgcv8",
        "outputId": "bbdf0ea5-dae0-4dcd-fc1c-2f55ca6f133c"
      },
      "execution_count": 17,
      "outputs": [
        {
          "output_type": "stream",
          "name": "stdout",
          "text": [
            "Tfidf_train: (15786, 4189)\n",
            "Tfidf_test: (1754, 4189)\n"
          ]
        }
      ]
    },
    {
      "cell_type": "code",
      "source": [
        "# tv.get_feature_names()"
      ],
      "metadata": {
        "id": "jOV49TEykTal"
      },
      "execution_count": null,
      "outputs": []
    },
    {
      "cell_type": "markdown",
      "source": [
        "# Modeling"
      ],
      "metadata": {
        "id": "NjuSJE01ggsM"
      }
    },
    {
      "cell_type": "code",
      "source": [
        "x_train = tv_train_reviews\n",
        "x_test = tv_test_reviews"
      ],
      "metadata": {
        "id": "6wgMo2eOgk-0"
      },
      "execution_count": 19,
      "outputs": []
    },
    {
      "cell_type": "code",
      "source": [
        "y_train = train.sense\n",
        "model = RandomForestRegressor(n_estimators=50)\n",
        "model.fit(x_train, y_train)\n",
        "y_pred = model.predict(x_test)\n",
        "y_pred = y_pred.tolist()\n",
        "# Rounding to 3 digits\n",
        "sense = list(np.around(np.array(y_pred),3))"
      ],
      "metadata": {
        "id": "0a8Tk-eLgnHU"
      },
      "execution_count": 20,
      "outputs": []
    },
    {
      "cell_type": "code",
      "source": [
        "y_train = train.honor\n",
        "model = RandomForestRegressor(n_estimators=50)\n",
        "model.fit(x_train, y_train)\n",
        "y_pred = model.predict(x_test)\n",
        "y_pred = y_pred.tolist()\n",
        "honor = list(np.around(np.array(y_pred),3))"
      ],
      "metadata": {
        "id": "IuqMPZXHgp6s"
      },
      "execution_count": 21,
      "outputs": []
    },
    {
      "cell_type": "code",
      "source": [
        "y_train = train.curse\n",
        "model = RandomForestRegressor(n_estimators=50)\n",
        "model.fit(x_train, y_train)\n",
        "y_pred = model.predict(x_test)\n",
        "y_pred = y_pred.tolist()\n",
        "curse = list(np.around(np.array(y_pred),3))"
      ],
      "metadata": {
        "id": "DSsikWa9gp87"
      },
      "execution_count": 22,
      "outputs": []
    },
    {
      "cell_type": "code",
      "source": [
        "y_train = train.despise\n",
        "model = RandomForestRegressor(n_estimators=50)\n",
        "model.fit(x_train, y_train)\n",
        "y_pred = model.predict(x_test)\n",
        "y_pred = y_pred.tolist()\n",
        "despise = list(np.around(np.array(y_pred),3))"
      ],
      "metadata": {
        "id": "NqS6VvDCgp-_"
      },
      "execution_count": 23,
      "outputs": []
    },
    {
      "cell_type": "code",
      "source": [
        "y_train = train.situation\n",
        "model = RandomForestRegressor(n_estimators=50)\n",
        "model.fit(x_train, y_train)\n",
        "y_pred = model.predict(x_test)\n",
        "y_pred = y_pred.tolist()\n",
        "situation = list(np.around(np.array(y_pred),3))"
      ],
      "metadata": {
        "id": "EhTC_epegqBF"
      },
      "execution_count": 24,
      "outputs": []
    },
    {
      "cell_type": "code",
      "source": [
        "y_train = train.antihuman\n",
        "model = RandomForestRegressor(n_estimators=50)\n",
        "model.fit(x_train, y_train)\n",
        "y_pred = model.predict(x_test)\n",
        "y_pred = y_pred.tolist()\n",
        "antihuman = list(np.around(np.array(y_pred),3))"
      ],
      "metadata": {
        "id": "0QRUY9W2gqDJ"
      },
      "execution_count": 25,
      "outputs": []
    },
    {
      "cell_type": "code",
      "source": [
        "y_train = train.roughness\n",
        "model = RandomForestRegressor(n_estimators=50)\n",
        "model.fit(x_train, y_train)\n",
        "y_pred = model.predict(x_test)\n",
        "y_pred = y_pred.tolist()\n",
        "roughness = list(np.around(np.array(y_pred),3))"
      ],
      "metadata": {
        "id": "-lLf-9pxgqFE"
      },
      "execution_count": 26,
      "outputs": []
    },
    {
      "cell_type": "code",
      "source": [
        "y_train = train.slaughter\n",
        "model = RandomForestRegressor(n_estimators=50)\n",
        "model.fit(x_train, y_train)\n",
        "y_pred = model.predict(x_test)\n",
        "y_pred = y_pred.tolist()\n",
        "slaughter = list(np.around(np.array(y_pred),3))"
      ],
      "metadata": {
        "id": "062kHqnAgqHM"
      },
      "execution_count": 27,
      "outputs": []
    },
    {
      "cell_type": "code",
      "source": [
        "y_train = train.strike_support\n",
        "model = RandomForestRegressor(n_estimators=50)\n",
        "model.fit(x_train, y_train)\n",
        "y_pred = model.predict(x_test)\n",
        "y_pred = y_pred.tolist()\n",
        "strike_support = list(np.around(np.array(y_pred),3))"
      ],
      "metadata": {
        "id": "pVYKokxlgqJs"
      },
      "execution_count": 28,
      "outputs": []
    },
    {
      "cell_type": "code",
      "source": [
        "y_train = train.depression_rate\n",
        "model = RandomForestRegressor(n_estimators=50)\n",
        "model.fit(x_train, y_train)\n",
        "y_pred = model.predict(x_test)\n",
        "y_pred = y_pred.tolist()\n",
        "depression_rate = list(np.around(np.array(y_pred),3))"
      ],
      "metadata": {
        "id": "RB4bM9Igg_19"
      },
      "execution_count": 29,
      "outputs": []
    },
    {
      "cell_type": "markdown",
      "source": [
        "# Creating result csv"
      ],
      "metadata": {
        "id": "QwaidBDlhMcU"
      }
    },
    {
      "cell_type": "code",
      "source": [
        "rows = zip(sense, honor, curse, despise, situation, antihuman, roughness, slaughter, strike_support, depression_rate)"
      ],
      "metadata": {
        "id": "nfgxIk4qhMEd"
      },
      "execution_count": 30,
      "outputs": []
    },
    {
      "cell_type": "code",
      "source": [
        "import csv\n",
        "\n",
        "with open('/content/output.csv', \"w\") as f:\n",
        "    writer = csv.writer(f)\n",
        "    # add header\n",
        "    writer.writerow(['sense', 'honor', 'curse', 'despise', 'situation', 'antihuman', 'roughness', 'slaughter', 'strike_support', 'depression_rate'])\n",
        "    # add results\n",
        "    for row in rows:\n",
        "        writer.writerow(row)"
      ],
      "metadata": {
        "id": "04RiAtwNg_4o"
      },
      "execution_count": 31,
      "outputs": []
    }
  ],
  "metadata": {
    "colab": {
      "collapsed_sections": [],
      "name": "Welcome To Colaboratory",
      "provenance": [],
      "include_colab_link": true
    },
    "kernelspec": {
      "display_name": "Python 3",
      "name": "python3"
    }
  },
  "nbformat": 4,
  "nbformat_minor": 0
}